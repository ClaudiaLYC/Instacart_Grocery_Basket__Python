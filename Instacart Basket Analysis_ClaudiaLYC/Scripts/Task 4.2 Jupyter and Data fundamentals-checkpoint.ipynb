{
 "cells": [
  {
   "cell_type": "markdown",
   "id": "834cb8da-61ca-454e-b73a-de3b8efbd0a6",
   "metadata": {},
   "source": [
    "# Task 4.2 Jupyter Fundamentals & Python Data Types"
   ]
  },
  {
   "cell_type": "markdown",
   "id": "a1d3824c-dff3-47c6-a97a-e6a84c001f17",
   "metadata": {},
   "source": [
    "## Importing Libraries"
   ]
  },
  {
   "cell_type": "code",
   "execution_count": 2,
   "id": "449edd87-42b0-495a-9e3f-63e7c5398c8c",
   "metadata": {
    "tags": []
   },
   "outputs": [],
   "source": [
    "# Import Libraries\n",
    "import pandas as pd\n",
    "import numpy as np\n",
    "import os"
   ]
  },
  {
   "cell_type": "markdown",
   "id": "3b295421-09fe-4230-af95-cbf11a785b19",
   "metadata": {},
   "source": [
    "## Working for Python data types"
   ]
  },
  {
   "cell_type": "markdown",
   "id": "296e2f1e-c02b-48a8-89ae-2782d983e907",
   "metadata": {},
   "source": [
    "### Step 7: Code 3 different ways of reaching a result of 100 by adding or subtracting numeric variables"
   ]
  },
  {
   "cell_type": "code",
   "execution_count": 3,
   "id": "cd78a110-abe7-414a-94f0-519b5b1d596a",
   "metadata": {
    "tags": []
   },
   "outputs": [],
   "source": [
    "# Step 7 Adding or Substracting\n",
    "a = 60\n",
    "b = 40"
   ]
  },
  {
   "cell_type": "code",
   "execution_count": 4,
   "id": "12271f6f-af62-4e13-9777-4b0e37e1c415",
   "metadata": {
    "tags": []
   },
   "outputs": [
    {
     "data": {
      "text/plain": [
       "100"
      ]
     },
     "execution_count": 4,
     "metadata": {},
     "output_type": "execute_result"
    }
   ],
   "source": [
    "a + b"
   ]
  },
  {
   "cell_type": "code",
   "execution_count": 5,
   "id": "58e6be88-59fd-44c7-93df-639f7d450d80",
   "metadata": {
    "tags": []
   },
   "outputs": [
    {
     "data": {
      "text/plain": [
       "100"
      ]
     },
     "execution_count": 5,
     "metadata": {},
     "output_type": "execute_result"
    }
   ],
   "source": [
    "160 - a"
   ]
  },
  {
   "cell_type": "code",
   "execution_count": 6,
   "id": "06af80c3-15cd-44c5-951f-a5bf8a85c9fe",
   "metadata": {
    "tags": []
   },
   "outputs": [
    {
     "data": {
      "text/plain": [
       "True"
      ]
     },
     "execution_count": 6,
     "metadata": {},
     "output_type": "execute_result"
    }
   ],
   "source": [
    "a + b == 100"
   ]
  },
  {
   "cell_type": "code",
   "execution_count": 7,
   "id": "bf407943-075e-427c-b972-45d378aa24ca",
   "metadata": {
    "tags": []
   },
   "outputs": [],
   "source": [
    "c = 200"
   ]
  },
  {
   "cell_type": "code",
   "execution_count": 8,
   "id": "772c06f0-1582-455c-a852-83d7eee7faff",
   "metadata": {
    "tags": []
   },
   "outputs": [
    {
     "data": {
      "text/plain": [
       "100"
      ]
     },
     "execution_count": 8,
     "metadata": {},
     "output_type": "execute_result"
    }
   ],
   "source": [
    "c - a - b"
   ]
  },
  {
   "cell_type": "markdown",
   "id": "5c47be47-6672-48c5-abee-8654e8bf3a23",
   "metadata": {},
   "source": [
    "### Step 8: Code 2 floating-point variables and divide them by each other"
   ]
  },
  {
   "cell_type": "code",
   "execution_count": 9,
   "id": "05b94560-7107-41d6-a97f-3020bc6b4dc4",
   "metadata": {
    "tags": []
   },
   "outputs": [],
   "source": [
    "d = 8.569"
   ]
  },
  {
   "cell_type": "code",
   "execution_count": 10,
   "id": "0e7ae378-e3d5-4d06-b6ea-c342967c9b38",
   "metadata": {
    "tags": []
   },
   "outputs": [],
   "source": [
    "e = 3.74"
   ]
  },
  {
   "cell_type": "code",
   "execution_count": 11,
   "id": "e1922488-1bbc-4337-a8ee-8d8025bcb901",
   "metadata": {
    "tags": []
   },
   "outputs": [
    {
     "data": {
      "text/plain": [
       "2.2911764705882356"
      ]
     },
     "execution_count": 11,
     "metadata": {},
     "output_type": "execute_result"
    }
   ],
   "source": [
    "d / e"
   ]
  },
  {
   "cell_type": "markdown",
   "id": "6e67379e-2bab-415d-9437-a599574f8ce8",
   "metadata": {},
   "source": [
    "### Step 9: Construct a short word made of separate strings (you’ll need to concatenate some strings!)"
   ]
  },
  {
   "cell_type": "code",
   "execution_count": 12,
   "id": "f7ac47ca-41b9-4b45-8108-4aa82c29ada8",
   "metadata": {
    "tags": []
   },
   "outputs": [],
   "source": [
    "f = 'Sun'"
   ]
  },
  {
   "cell_type": "code",
   "execution_count": 13,
   "id": "bf57326f-2158-4844-9a02-66672ea30e78",
   "metadata": {
    "tags": []
   },
   "outputs": [],
   "source": [
    "g = 'set'"
   ]
  },
  {
   "cell_type": "code",
   "execution_count": 14,
   "id": "35f2bd25-356b-4d72-a3e9-ebf37cf65293",
   "metadata": {
    "tags": []
   },
   "outputs": [
    {
     "data": {
      "text/plain": [
       "'Sunset'"
      ]
     },
     "execution_count": 14,
     "metadata": {},
     "output_type": "execute_result"
    }
   ],
   "source": [
    "f + g"
   ]
  },
  {
   "cell_type": "markdown",
   "id": "208e670c-be80-489c-868a-ca144e1b1380",
   "metadata": {},
   "source": [
    "### Step 10: Construct 2 short sentences made of separate strings"
   ]
  },
  {
   "cell_type": "code",
   "execution_count": 15,
   "id": "bdbc738e-166f-488e-9a8d-0fd05c9591bd",
   "metadata": {
    "tags": []
   },
   "outputs": [],
   "source": [
    "h = 'How cool'"
   ]
  },
  {
   "cell_type": "code",
   "execution_count": 16,
   "id": "0d072b22-85c7-4814-be21-2feaf883a4ae",
   "metadata": {
    "tags": []
   },
   "outputs": [],
   "source": [
    "i = 'is this!!!'"
   ]
  },
  {
   "cell_type": "code",
   "execution_count": 17,
   "id": "af68c05a-1a01-45c5-b2d2-592b7819707d",
   "metadata": {
    "tags": []
   },
   "outputs": [
    {
     "data": {
      "text/plain": [
       "'How coolis this!!!'"
      ]
     },
     "execution_count": 17,
     "metadata": {},
     "output_type": "execute_result"
    }
   ],
   "source": [
    "h + i"
   ]
  },
  {
   "cell_type": "code",
   "execution_count": 18,
   "id": "152e0387-631b-42a9-b650-469c35aa46b8",
   "metadata": {
    "tags": []
   },
   "outputs": [],
   "source": [
    "i = ' is this!!!  :) '"
   ]
  },
  {
   "cell_type": "code",
   "execution_count": 19,
   "id": "e7e937e7-1b40-48cf-8d88-1b1958d515c2",
   "metadata": {
    "tags": []
   },
   "outputs": [
    {
     "data": {
      "text/plain": [
       "'How cool is this!!!  :) '"
      ]
     },
     "execution_count": 19,
     "metadata": {},
     "output_type": "execute_result"
    }
   ],
   "source": [
    "h + i"
   ]
  },
  {
   "cell_type": "code",
   "execution_count": 20,
   "id": "5380faa8-9565-46fc-ac0e-6ec1aab66fc2",
   "metadata": {
    "tags": []
   },
   "outputs": [],
   "source": [
    "j = 'What do I have to do to'"
   ]
  },
  {
   "cell_type": "code",
   "execution_count": 23,
   "id": "8eb5c119-0f63-40c6-ae5b-c63f494e68b7",
   "metadata": {
    "tags": []
   },
   "outputs": [],
   "source": [
    "k = ' export the dataframe with my changes?'"
   ]
  },
  {
   "cell_type": "code",
   "execution_count": 24,
   "id": "1717d626-92e5-4b8a-b0f4-8579b195a947",
   "metadata": {
    "tags": []
   },
   "outputs": [
    {
     "data": {
      "text/plain": [
       "'What do I have to do to export the dataframe with my changes?'"
      ]
     },
     "execution_count": 24,
     "metadata": {},
     "output_type": "execute_result"
    }
   ],
   "source": [
    "j + k"
   ]
  },
  {
   "cell_type": "markdown",
   "id": "8063d9a6-394b-4a37-9098-a8217b365070",
   "metadata": {},
   "source": [
    "### Bonus Task: include a command that makes a string appear 100 times"
   ]
  },
  {
   "cell_type": "code",
   "execution_count": 25,
   "id": "c5b42e9f-2ddc-4602-ba79-e7ad45537cc6",
   "metadata": {
    "tags": []
   },
   "outputs": [
    {
     "data": {
      "text/plain": [
       "'SunsetSunsetSunsetSunsetSunsetSunsetSunsetSunsetSunsetSunsetSunsetSunsetSunsetSunsetSunsetSunsetSunsetSunsetSunsetSunsetSunsetSunsetSunsetSunsetSunsetSunsetSunsetSunsetSunsetSunsetSunsetSunsetSunsetSunsetSunsetSunsetSunsetSunsetSunsetSunsetSunsetSunsetSunsetSunsetSunsetSunsetSunsetSunsetSunsetSunsetSunsetSunsetSunsetSunsetSunsetSunsetSunsetSunsetSunsetSunsetSunsetSunsetSunsetSunsetSunsetSunsetSunsetSunsetSunsetSunsetSunsetSunsetSunsetSunsetSunsetSunsetSunsetSunsetSunsetSunsetSunsetSunsetSunsetSunsetSunsetSunsetSunsetSunsetSunsetSunsetSunsetSunsetSunsetSunsetSunsetSunsetSunsetSunsetSunsetSunset'"
      ]
     },
     "execution_count": 25,
     "metadata": {},
     "output_type": "execute_result"
    }
   ],
   "source": [
    "(f + g) * 100"
   ]
  },
  {
   "cell_type": "code",
   "execution_count": null,
   "id": "2fde9f0d-98f8-40cf-b711-0b2d8e6c5508",
   "metadata": {},
   "outputs": [],
   "source": []
  }
 ],
 "metadata": {
  "kernelspec": {
   "display_name": "Python 3 (ipykernel)",
   "language": "python",
   "name": "python3"
  },
  "language_info": {
   "codemirror_mode": {
    "name": "ipython",
    "version": 3
   },
   "file_extension": ".py",
   "mimetype": "text/x-python",
   "name": "python",
   "nbconvert_exporter": "python",
   "pygments_lexer": "ipython3",
   "version": "3.11.4"
  }
 },
 "nbformat": 4,
 "nbformat_minor": 5
}
