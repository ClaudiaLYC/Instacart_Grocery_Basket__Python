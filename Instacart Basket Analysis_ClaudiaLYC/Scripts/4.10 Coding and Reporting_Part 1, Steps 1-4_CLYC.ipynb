{
 "cells": [
  {
   "cell_type": "markdown",
   "id": "e4901e25-a769-47c2-a357-e0afb5090950",
   "metadata": {},
   "source": [
    "# Exercise 4.10 Coding Etiquette & Excel Reporting\n",
    "## Part 1, Steps 1 to 4\n",
    "##### By Claudia Lan Yee Chiu"
   ]
  },
  {
   "cell_type": "markdown",
   "id": "5bfbafd0-7161-497f-bf73-c9632dee07bd",
   "metadata": {},
   "source": [
    "# Table of Contents\n",
    "\n",
    "####  1. Importing Analysis and Visualization Libraries\n",
    "####  2. Addressing PII Data\n",
    "####  3. Creating a regional segmentation\n",
    "#####     3a. Defining the regions as per Wikipedia\n",
    "#####     3b. Creating a new ´region´ column and assigning the States accordingly\n",
    "#####     3c. Determine the spending habits between the different U.S. regions\n",
    "####  4. Creating an exclusion flag for low-activity customers: customers with less than 5 orders\n",
    "#####     4a. Creating a new activity flag based on the ´max_order' value of the customers\n",
    "#####     4b. Creating subsets of both low and high activity customers and export\n",
    "#####     4c. Exporting low and high activity dataframes"
   ]
  },
  {
   "cell_type": "markdown",
   "id": "bace7358-0c3d-4ce8-973a-e6ba43de32b9",
   "metadata": {},
   "source": [
    "## 1. Importing Analysis and Visualization Libraries"
   ]
  },
  {
   "cell_type": "code",
   "execution_count": 1,
   "id": "3d444966-6ba4-40fe-892e-4db4ab97ba02",
   "metadata": {
    "tags": []
   },
   "outputs": [],
   "source": [
    "# Import libraries\n",
    "import pandas as pd\n",
    "import numpy as np\n",
    "import os\n",
    "import matplotlib.pyplot as plt\n",
    "import seaborn as sns\n",
    "import scipy"
   ]
  },
  {
   "cell_type": "code",
   "execution_count": 2,
   "id": "52d383f5-9e8f-4e56-861b-fa9485fbf0da",
   "metadata": {
    "tags": []
   },
   "outputs": [],
   "source": [
    "# Assign path\n",
    "path = r'C:\\Users\\clany\\OneDrive\\Documents\\CareerFoundry\\Chap_4_Pythons Fundamentals for Data Analysts\\Instacart Basket Analysis'"
   ]
  },
  {
   "cell_type": "markdown",
   "id": "60e7a9be-1e99-4ac0-ab82-b35d4ae7ab01",
   "metadata": {},
   "source": [
    "#### Importing the data set from Exercise 4.9 - Latest merged version with new customers column"
   ]
  },
  {
   "cell_type": "code",
   "execution_count": 3,
   "id": "af52ad47-e358-4952-8f8d-b2357fa5bb8e",
   "metadata": {
    "tags": []
   },
   "outputs": [],
   "source": [
    "# Import the data set\n",
    "df_ords_prods_cust = pd.read_pickle(os.path.join( path, 'Data', 'Prepared Data', 'ords_prods_customer_merge.pkl'))"
   ]
  },
  {
   "cell_type": "code",
   "execution_count": 4,
   "id": "166ea85f-e37c-49e4-9c0b-e707357fbd6a",
   "metadata": {},
   "outputs": [
    {
     "data": {
      "text/html": [
       "<div>\n",
       "<style scoped>\n",
       "    .dataframe tbody tr th:only-of-type {\n",
       "        vertical-align: middle;\n",
       "    }\n",
       "\n",
       "    .dataframe tbody tr th {\n",
       "        vertical-align: top;\n",
       "    }\n",
       "\n",
       "    .dataframe thead th {\n",
       "        text-align: right;\n",
       "    }\n",
       "</style>\n",
       "<table border=\"1\" class=\"dataframe\">\n",
       "  <thead>\n",
       "    <tr style=\"text-align: right;\">\n",
       "      <th></th>\n",
       "      <th>order_id</th>\n",
       "      <th>user_id</th>\n",
       "      <th>eval_set</th>\n",
       "      <th>number_of_orders</th>\n",
       "      <th>orders_day_of_week</th>\n",
       "      <th>order_hour_of_day</th>\n",
       "      <th>days_since_prior_order</th>\n",
       "      <th>product_id</th>\n",
       "      <th>add_to_cart_order</th>\n",
       "      <th>reordered</th>\n",
       "      <th>...</th>\n",
       "      <th>frequency_flag</th>\n",
       "      <th>first_name</th>\n",
       "      <th>last_name</th>\n",
       "      <th>gender</th>\n",
       "      <th>state</th>\n",
       "      <th>age</th>\n",
       "      <th>date_joined</th>\n",
       "      <th>number_of_dependants</th>\n",
       "      <th>family_status</th>\n",
       "      <th>income</th>\n",
       "    </tr>\n",
       "  </thead>\n",
       "  <tbody>\n",
       "    <tr>\n",
       "      <th>0</th>\n",
       "      <td>2539329</td>\n",
       "      <td>1</td>\n",
       "      <td>prior</td>\n",
       "      <td>1</td>\n",
       "      <td>2</td>\n",
       "      <td>8</td>\n",
       "      <td>NaN</td>\n",
       "      <td>196</td>\n",
       "      <td>1</td>\n",
       "      <td>0</td>\n",
       "      <td>...</td>\n",
       "      <td>Non-frequent customer</td>\n",
       "      <td>Linda</td>\n",
       "      <td>Nguyen</td>\n",
       "      <td>Female</td>\n",
       "      <td>Alabama</td>\n",
       "      <td>31</td>\n",
       "      <td>2/17/2019</td>\n",
       "      <td>3</td>\n",
       "      <td>married</td>\n",
       "      <td>40423</td>\n",
       "    </tr>\n",
       "    <tr>\n",
       "      <th>1</th>\n",
       "      <td>2398795</td>\n",
       "      <td>1</td>\n",
       "      <td>prior</td>\n",
       "      <td>2</td>\n",
       "      <td>3</td>\n",
       "      <td>7</td>\n",
       "      <td>15.0</td>\n",
       "      <td>196</td>\n",
       "      <td>1</td>\n",
       "      <td>1</td>\n",
       "      <td>...</td>\n",
       "      <td>Non-frequent customer</td>\n",
       "      <td>Linda</td>\n",
       "      <td>Nguyen</td>\n",
       "      <td>Female</td>\n",
       "      <td>Alabama</td>\n",
       "      <td>31</td>\n",
       "      <td>2/17/2019</td>\n",
       "      <td>3</td>\n",
       "      <td>married</td>\n",
       "      <td>40423</td>\n",
       "    </tr>\n",
       "    <tr>\n",
       "      <th>2</th>\n",
       "      <td>473747</td>\n",
       "      <td>1</td>\n",
       "      <td>prior</td>\n",
       "      <td>3</td>\n",
       "      <td>3</td>\n",
       "      <td>12</td>\n",
       "      <td>21.0</td>\n",
       "      <td>196</td>\n",
       "      <td>1</td>\n",
       "      <td>1</td>\n",
       "      <td>...</td>\n",
       "      <td>Non-frequent customer</td>\n",
       "      <td>Linda</td>\n",
       "      <td>Nguyen</td>\n",
       "      <td>Female</td>\n",
       "      <td>Alabama</td>\n",
       "      <td>31</td>\n",
       "      <td>2/17/2019</td>\n",
       "      <td>3</td>\n",
       "      <td>married</td>\n",
       "      <td>40423</td>\n",
       "    </tr>\n",
       "    <tr>\n",
       "      <th>3</th>\n",
       "      <td>2254736</td>\n",
       "      <td>1</td>\n",
       "      <td>prior</td>\n",
       "      <td>4</td>\n",
       "      <td>4</td>\n",
       "      <td>7</td>\n",
       "      <td>29.0</td>\n",
       "      <td>196</td>\n",
       "      <td>1</td>\n",
       "      <td>1</td>\n",
       "      <td>...</td>\n",
       "      <td>Non-frequent customer</td>\n",
       "      <td>Linda</td>\n",
       "      <td>Nguyen</td>\n",
       "      <td>Female</td>\n",
       "      <td>Alabama</td>\n",
       "      <td>31</td>\n",
       "      <td>2/17/2019</td>\n",
       "      <td>3</td>\n",
       "      <td>married</td>\n",
       "      <td>40423</td>\n",
       "    </tr>\n",
       "  </tbody>\n",
       "</table>\n",
       "<p>4 rows × 35 columns</p>\n",
       "</div>"
      ],
      "text/plain": [
       "   order_id  user_id eval_set  number_of_orders  orders_day_of_week  \\\n",
       "0   2539329        1    prior                 1                   2   \n",
       "1   2398795        1    prior                 2                   3   \n",
       "2    473747        1    prior                 3                   3   \n",
       "3   2254736        1    prior                 4                   4   \n",
       "\n",
       "   order_hour_of_day  days_since_prior_order  product_id  add_to_cart_order  \\\n",
       "0                  8                     NaN         196                  1   \n",
       "1                  7                    15.0         196                  1   \n",
       "2                 12                    21.0         196                  1   \n",
       "3                  7                    29.0         196                  1   \n",
       "\n",
       "   reordered  ...         frequency_flag  first_name  last_name  gender  \\\n",
       "0          0  ...  Non-frequent customer       Linda     Nguyen  Female   \n",
       "1          1  ...  Non-frequent customer       Linda     Nguyen  Female   \n",
       "2          1  ...  Non-frequent customer       Linda     Nguyen  Female   \n",
       "3          1  ...  Non-frequent customer       Linda     Nguyen  Female   \n",
       "\n",
       "     state age  date_joined number_of_dependants family_status income  \n",
       "0  Alabama  31    2/17/2019                    3       married  40423  \n",
       "1  Alabama  31    2/17/2019                    3       married  40423  \n",
       "2  Alabama  31    2/17/2019                    3       married  40423  \n",
       "3  Alabama  31    2/17/2019                    3       married  40423  \n",
       "\n",
       "[4 rows x 35 columns]"
      ]
     },
     "execution_count": 4,
     "metadata": {},
     "output_type": "execute_result"
    }
   ],
   "source": [
    "# Check of imported dataframe\n",
    "df_ords_prods_cust.head(4)"
   ]
  },
  {
   "cell_type": "code",
   "execution_count": 5,
   "id": "5e80ad01-c789-4b67-b632-8c144bacca33",
   "metadata": {
    "tags": []
   },
   "outputs": [
    {
     "data": {
      "text/plain": [
       "(32404859, 35)"
      ]
     },
     "execution_count": 5,
     "metadata": {},
     "output_type": "execute_result"
    }
   ],
   "source": [
    "# Check the shape of the dataframe\n",
    "df_ords_prods_cust.shape"
   ]
  },
  {
   "cell_type": "markdown",
   "id": "f9e0204c-a8d3-40b3-9470-608fbbe7f9cc",
   "metadata": {},
   "source": [
    "## 2. Addressing PII Data"
   ]
  },
  {
   "cell_type": "markdown",
   "id": "784726ef-528c-4d63-bbd2-4f700c39a1e1",
   "metadata": {},
   "source": [
    "#### In order to mitigate the security risks associated with personally identifiable information (PII) within the dataframe, it will be necessary to eliminate the 'first_name' and 'last_name' columns. These particular columns contain data that can directly identify an individual, and their exclusion is essential for safeguarding the confidentiality and privacy of this sensitive information."
   ]
  },
  {
   "cell_type": "code",
   "execution_count": 6,
   "id": "19253810-5e8b-4b37-b1c1-83bcdf72fbdc",
   "metadata": {},
   "outputs": [],
   "source": [
    "# Drop the columns with PII Data\n",
    "\n",
    "df_opc_nonames=df_ords_prods_cust.drop(columns=['first_name', 'last_name'])"
   ]
  },
  {
   "cell_type": "code",
   "execution_count": 7,
   "id": "1f2a7d20-d00a-4afc-9a73-c971be40a22b",
   "metadata": {},
   "outputs": [
    {
     "data": {
      "text/html": [
       "<div>\n",
       "<style scoped>\n",
       "    .dataframe tbody tr th:only-of-type {\n",
       "        vertical-align: middle;\n",
       "    }\n",
       "\n",
       "    .dataframe tbody tr th {\n",
       "        vertical-align: top;\n",
       "    }\n",
       "\n",
       "    .dataframe thead th {\n",
       "        text-align: right;\n",
       "    }\n",
       "</style>\n",
       "<table border=\"1\" class=\"dataframe\">\n",
       "  <thead>\n",
       "    <tr style=\"text-align: right;\">\n",
       "      <th></th>\n",
       "      <th>order_id</th>\n",
       "      <th>user_id</th>\n",
       "      <th>eval_set</th>\n",
       "      <th>number_of_orders</th>\n",
       "      <th>orders_day_of_week</th>\n",
       "      <th>order_hour_of_day</th>\n",
       "      <th>days_since_prior_order</th>\n",
       "      <th>product_id</th>\n",
       "      <th>add_to_cart_order</th>\n",
       "      <th>reordered</th>\n",
       "      <th>...</th>\n",
       "      <th>spending_flag</th>\n",
       "      <th>median_prior_order</th>\n",
       "      <th>frequency_flag</th>\n",
       "      <th>gender</th>\n",
       "      <th>state</th>\n",
       "      <th>age</th>\n",
       "      <th>date_joined</th>\n",
       "      <th>number_of_dependants</th>\n",
       "      <th>family_status</th>\n",
       "      <th>income</th>\n",
       "    </tr>\n",
       "  </thead>\n",
       "  <tbody>\n",
       "    <tr>\n",
       "      <th>0</th>\n",
       "      <td>2539329</td>\n",
       "      <td>1</td>\n",
       "      <td>prior</td>\n",
       "      <td>1</td>\n",
       "      <td>2</td>\n",
       "      <td>8</td>\n",
       "      <td>NaN</td>\n",
       "      <td>196</td>\n",
       "      <td>1</td>\n",
       "      <td>0</td>\n",
       "      <td>...</td>\n",
       "      <td>Low spender</td>\n",
       "      <td>20.259259</td>\n",
       "      <td>Non-frequent customer</td>\n",
       "      <td>Female</td>\n",
       "      <td>Alabama</td>\n",
       "      <td>31</td>\n",
       "      <td>2/17/2019</td>\n",
       "      <td>3</td>\n",
       "      <td>married</td>\n",
       "      <td>40423</td>\n",
       "    </tr>\n",
       "    <tr>\n",
       "      <th>1</th>\n",
       "      <td>2398795</td>\n",
       "      <td>1</td>\n",
       "      <td>prior</td>\n",
       "      <td>2</td>\n",
       "      <td>3</td>\n",
       "      <td>7</td>\n",
       "      <td>15.0</td>\n",
       "      <td>196</td>\n",
       "      <td>1</td>\n",
       "      <td>1</td>\n",
       "      <td>...</td>\n",
       "      <td>Low spender</td>\n",
       "      <td>20.259259</td>\n",
       "      <td>Non-frequent customer</td>\n",
       "      <td>Female</td>\n",
       "      <td>Alabama</td>\n",
       "      <td>31</td>\n",
       "      <td>2/17/2019</td>\n",
       "      <td>3</td>\n",
       "      <td>married</td>\n",
       "      <td>40423</td>\n",
       "    </tr>\n",
       "    <tr>\n",
       "      <th>2</th>\n",
       "      <td>473747</td>\n",
       "      <td>1</td>\n",
       "      <td>prior</td>\n",
       "      <td>3</td>\n",
       "      <td>3</td>\n",
       "      <td>12</td>\n",
       "      <td>21.0</td>\n",
       "      <td>196</td>\n",
       "      <td>1</td>\n",
       "      <td>1</td>\n",
       "      <td>...</td>\n",
       "      <td>Low spender</td>\n",
       "      <td>20.259259</td>\n",
       "      <td>Non-frequent customer</td>\n",
       "      <td>Female</td>\n",
       "      <td>Alabama</td>\n",
       "      <td>31</td>\n",
       "      <td>2/17/2019</td>\n",
       "      <td>3</td>\n",
       "      <td>married</td>\n",
       "      <td>40423</td>\n",
       "    </tr>\n",
       "    <tr>\n",
       "      <th>3</th>\n",
       "      <td>2254736</td>\n",
       "      <td>1</td>\n",
       "      <td>prior</td>\n",
       "      <td>4</td>\n",
       "      <td>4</td>\n",
       "      <td>7</td>\n",
       "      <td>29.0</td>\n",
       "      <td>196</td>\n",
       "      <td>1</td>\n",
       "      <td>1</td>\n",
       "      <td>...</td>\n",
       "      <td>Low spender</td>\n",
       "      <td>20.259259</td>\n",
       "      <td>Non-frequent customer</td>\n",
       "      <td>Female</td>\n",
       "      <td>Alabama</td>\n",
       "      <td>31</td>\n",
       "      <td>2/17/2019</td>\n",
       "      <td>3</td>\n",
       "      <td>married</td>\n",
       "      <td>40423</td>\n",
       "    </tr>\n",
       "    <tr>\n",
       "      <th>4</th>\n",
       "      <td>431534</td>\n",
       "      <td>1</td>\n",
       "      <td>prior</td>\n",
       "      <td>5</td>\n",
       "      <td>4</td>\n",
       "      <td>15</td>\n",
       "      <td>28.0</td>\n",
       "      <td>196</td>\n",
       "      <td>1</td>\n",
       "      <td>1</td>\n",
       "      <td>...</td>\n",
       "      <td>Low spender</td>\n",
       "      <td>20.259259</td>\n",
       "      <td>Non-frequent customer</td>\n",
       "      <td>Female</td>\n",
       "      <td>Alabama</td>\n",
       "      <td>31</td>\n",
       "      <td>2/17/2019</td>\n",
       "      <td>3</td>\n",
       "      <td>married</td>\n",
       "      <td>40423</td>\n",
       "    </tr>\n",
       "  </tbody>\n",
       "</table>\n",
       "<p>5 rows × 33 columns</p>\n",
       "</div>"
      ],
      "text/plain": [
       "   order_id  user_id eval_set  number_of_orders  orders_day_of_week  \\\n",
       "0   2539329        1    prior                 1                   2   \n",
       "1   2398795        1    prior                 2                   3   \n",
       "2    473747        1    prior                 3                   3   \n",
       "3   2254736        1    prior                 4                   4   \n",
       "4    431534        1    prior                 5                   4   \n",
       "\n",
       "   order_hour_of_day  days_since_prior_order  product_id  add_to_cart_order  \\\n",
       "0                  8                     NaN         196                  1   \n",
       "1                  7                    15.0         196                  1   \n",
       "2                 12                    21.0         196                  1   \n",
       "3                  7                    29.0         196                  1   \n",
       "4                 15                    28.0         196                  1   \n",
       "\n",
       "   reordered  ... spending_flag  median_prior_order         frequency_flag  \\\n",
       "0          0  ...   Low spender           20.259259  Non-frequent customer   \n",
       "1          1  ...   Low spender           20.259259  Non-frequent customer   \n",
       "2          1  ...   Low spender           20.259259  Non-frequent customer   \n",
       "3          1  ...   Low spender           20.259259  Non-frequent customer   \n",
       "4          1  ...   Low spender           20.259259  Non-frequent customer   \n",
       "\n",
       "   gender    state age  date_joined number_of_dependants family_status income  \n",
       "0  Female  Alabama  31    2/17/2019                    3       married  40423  \n",
       "1  Female  Alabama  31    2/17/2019                    3       married  40423  \n",
       "2  Female  Alabama  31    2/17/2019                    3       married  40423  \n",
       "3  Female  Alabama  31    2/17/2019                    3       married  40423  \n",
       "4  Female  Alabama  31    2/17/2019                    3       married  40423  \n",
       "\n",
       "[5 rows x 33 columns]"
      ]
     },
     "execution_count": 7,
     "metadata": {},
     "output_type": "execute_result"
    }
   ],
   "source": [
    "# Check the result of dropping PII columns\n",
    "df_opc_nonames.head()"
   ]
  },
  {
   "cell_type": "code",
   "execution_count": 8,
   "id": "69c74c15-8f30-4dd7-a82a-a9a5fbe234cd",
   "metadata": {},
   "outputs": [],
   "source": [
    "# Checking the full columns names for any further PII data\n",
    "pd.options.display.max_columns = None"
   ]
  },
  {
   "cell_type": "code",
   "execution_count": 9,
   "id": "efc329a2-6c90-41e4-b62e-09e587b1dc4f",
   "metadata": {},
   "outputs": [
    {
     "data": {
      "text/html": [
       "<div>\n",
       "<style scoped>\n",
       "    .dataframe tbody tr th:only-of-type {\n",
       "        vertical-align: middle;\n",
       "    }\n",
       "\n",
       "    .dataframe tbody tr th {\n",
       "        vertical-align: top;\n",
       "    }\n",
       "\n",
       "    .dataframe thead th {\n",
       "        text-align: right;\n",
       "    }\n",
       "</style>\n",
       "<table border=\"1\" class=\"dataframe\">\n",
       "  <thead>\n",
       "    <tr style=\"text-align: right;\">\n",
       "      <th></th>\n",
       "      <th>order_id</th>\n",
       "      <th>user_id</th>\n",
       "      <th>eval_set</th>\n",
       "      <th>number_of_orders</th>\n",
       "      <th>orders_day_of_week</th>\n",
       "      <th>order_hour_of_day</th>\n",
       "      <th>days_since_prior_order</th>\n",
       "      <th>product_id</th>\n",
       "      <th>add_to_cart_order</th>\n",
       "      <th>reordered</th>\n",
       "      <th>product_name</th>\n",
       "      <th>aisle_id</th>\n",
       "      <th>department_id</th>\n",
       "      <th>prices</th>\n",
       "      <th>_merge</th>\n",
       "      <th>price_range_loc</th>\n",
       "      <th>price_range_loc</th>\n",
       "      <th>busiest_day</th>\n",
       "      <th>Busiest_days</th>\n",
       "      <th>busiest_period_of_day</th>\n",
       "      <th>max_order</th>\n",
       "      <th>loyalty_flag</th>\n",
       "      <th>average_price</th>\n",
       "      <th>spending_flag</th>\n",
       "      <th>median_prior_order</th>\n",
       "      <th>frequency_flag</th>\n",
       "      <th>gender</th>\n",
       "      <th>state</th>\n",
       "      <th>age</th>\n",
       "      <th>date_joined</th>\n",
       "      <th>number_of_dependants</th>\n",
       "      <th>family_status</th>\n",
       "      <th>income</th>\n",
       "    </tr>\n",
       "  </thead>\n",
       "  <tbody>\n",
       "    <tr>\n",
       "      <th>0</th>\n",
       "      <td>2539329</td>\n",
       "      <td>1</td>\n",
       "      <td>prior</td>\n",
       "      <td>1</td>\n",
       "      <td>2</td>\n",
       "      <td>8</td>\n",
       "      <td>NaN</td>\n",
       "      <td>196</td>\n",
       "      <td>1</td>\n",
       "      <td>0</td>\n",
       "      <td>Soda</td>\n",
       "      <td>77</td>\n",
       "      <td>7</td>\n",
       "      <td>9.0</td>\n",
       "      <td>both</td>\n",
       "      <td>NaN</td>\n",
       "      <td>NaN</td>\n",
       "      <td>Regularly busy</td>\n",
       "      <td>Normal days</td>\n",
       "      <td>Average Orders</td>\n",
       "      <td>10</td>\n",
       "      <td>New Customer</td>\n",
       "      <td>6.367797</td>\n",
       "      <td>Low spender</td>\n",
       "      <td>20.259259</td>\n",
       "      <td>Non-frequent customer</td>\n",
       "      <td>Female</td>\n",
       "      <td>Alabama</td>\n",
       "      <td>31</td>\n",
       "      <td>2/17/2019</td>\n",
       "      <td>3</td>\n",
       "      <td>married</td>\n",
       "      <td>40423</td>\n",
       "    </tr>\n",
       "    <tr>\n",
       "      <th>1</th>\n",
       "      <td>2398795</td>\n",
       "      <td>1</td>\n",
       "      <td>prior</td>\n",
       "      <td>2</td>\n",
       "      <td>3</td>\n",
       "      <td>7</td>\n",
       "      <td>15.0</td>\n",
       "      <td>196</td>\n",
       "      <td>1</td>\n",
       "      <td>1</td>\n",
       "      <td>Soda</td>\n",
       "      <td>77</td>\n",
       "      <td>7</td>\n",
       "      <td>9.0</td>\n",
       "      <td>both</td>\n",
       "      <td>NaN</td>\n",
       "      <td>NaN</td>\n",
       "      <td>Regularly busy</td>\n",
       "      <td>Slowest days</td>\n",
       "      <td>Average Orders</td>\n",
       "      <td>10</td>\n",
       "      <td>New Customer</td>\n",
       "      <td>6.367797</td>\n",
       "      <td>Low spender</td>\n",
       "      <td>20.259259</td>\n",
       "      <td>Non-frequent customer</td>\n",
       "      <td>Female</td>\n",
       "      <td>Alabama</td>\n",
       "      <td>31</td>\n",
       "      <td>2/17/2019</td>\n",
       "      <td>3</td>\n",
       "      <td>married</td>\n",
       "      <td>40423</td>\n",
       "    </tr>\n",
       "    <tr>\n",
       "      <th>2</th>\n",
       "      <td>473747</td>\n",
       "      <td>1</td>\n",
       "      <td>prior</td>\n",
       "      <td>3</td>\n",
       "      <td>3</td>\n",
       "      <td>12</td>\n",
       "      <td>21.0</td>\n",
       "      <td>196</td>\n",
       "      <td>1</td>\n",
       "      <td>1</td>\n",
       "      <td>Soda</td>\n",
       "      <td>77</td>\n",
       "      <td>7</td>\n",
       "      <td>9.0</td>\n",
       "      <td>both</td>\n",
       "      <td>NaN</td>\n",
       "      <td>NaN</td>\n",
       "      <td>Regularly busy</td>\n",
       "      <td>Slowest days</td>\n",
       "      <td>Most Orders</td>\n",
       "      <td>10</td>\n",
       "      <td>New Customer</td>\n",
       "      <td>6.367797</td>\n",
       "      <td>Low spender</td>\n",
       "      <td>20.259259</td>\n",
       "      <td>Non-frequent customer</td>\n",
       "      <td>Female</td>\n",
       "      <td>Alabama</td>\n",
       "      <td>31</td>\n",
       "      <td>2/17/2019</td>\n",
       "      <td>3</td>\n",
       "      <td>married</td>\n",
       "      <td>40423</td>\n",
       "    </tr>\n",
       "  </tbody>\n",
       "</table>\n",
       "</div>"
      ],
      "text/plain": [
       "   order_id  user_id eval_set  number_of_orders  orders_day_of_week  \\\n",
       "0   2539329        1    prior                 1                   2   \n",
       "1   2398795        1    prior                 2                   3   \n",
       "2    473747        1    prior                 3                   3   \n",
       "\n",
       "   order_hour_of_day  days_since_prior_order  product_id  add_to_cart_order  \\\n",
       "0                  8                     NaN         196                  1   \n",
       "1                  7                    15.0         196                  1   \n",
       "2                 12                    21.0         196                  1   \n",
       "\n",
       "   reordered product_name  aisle_id  department_id  prices _merge  \\\n",
       "0          0         Soda        77              7     9.0   both   \n",
       "1          1         Soda        77              7     9.0   both   \n",
       "2          1         Soda        77              7     9.0   both   \n",
       "\n",
       "   price_range_loc  price_range_loc     busiest_day  Busiest_days  \\\n",
       "0              NaN              NaN  Regularly busy   Normal days   \n",
       "1              NaN              NaN  Regularly busy  Slowest days   \n",
       "2              NaN              NaN  Regularly busy  Slowest days   \n",
       "\n",
       "  busiest_period_of_day  max_order  loyalty_flag  average_price spending_flag  \\\n",
       "0        Average Orders         10  New Customer       6.367797   Low spender   \n",
       "1        Average Orders         10  New Customer       6.367797   Low spender   \n",
       "2           Most Orders         10  New Customer       6.367797   Low spender   \n",
       "\n",
       "   median_prior_order         frequency_flag  gender    state  age  \\\n",
       "0           20.259259  Non-frequent customer  Female  Alabama   31   \n",
       "1           20.259259  Non-frequent customer  Female  Alabama   31   \n",
       "2           20.259259  Non-frequent customer  Female  Alabama   31   \n",
       "\n",
       "  date_joined  number_of_dependants family_status  income  \n",
       "0   2/17/2019                     3       married   40423  \n",
       "1   2/17/2019                     3       married   40423  \n",
       "2   2/17/2019                     3       married   40423  "
      ]
     },
     "execution_count": 9,
     "metadata": {},
     "output_type": "execute_result"
    }
   ],
   "source": [
    "df_opc_nonames.head(3)"
   ]
  },
  {
   "cell_type": "markdown",
   "id": "32636192-800d-464f-a959-7c81cac648d3",
   "metadata": {},
   "source": [
    "## 3. Creating a regional segmentation: \n",
    "#### Generating a new column 'Region' based on the 'State' information"
   ]
  },
  {
   "cell_type": "markdown",
   "id": "4e7023e6-763d-432f-8a5f-5555c5f5cc82",
   "metadata": {},
   "source": [
    "#### 3a. Defining the regions as per Wikipedia"
   ]
  },
  {
   "cell_type": "code",
   "execution_count": 10,
   "id": "0fba81b9-6746-412e-8cf0-ca006286a9f2",
   "metadata": {
    "tags": []
   },
   "outputs": [],
   "source": [
    "# Creating the four regions of the United States using below Wikipedia site:\n",
    "# https://simple.wikipedia.org/wiki/List_of_regions_of_the_United_States\n",
    "\n",
    "Northeast = ['Maine', 'New Hampshire', 'Vermont', 'Massachusetts', 'Rhode Island', 'Connecticut', 'New York', 'Pennsylvania', 'New Jersey']\n",
    "Midwest = ['Wisconsin', 'Michigan', 'Illinois', 'Indiana', 'Ohio', 'North Dakota', 'South Dakota', 'Nebraska', 'Kansas', 'Minnesota', 'Iowa', 'Missouri']\n",
    "South = ['Delaware', 'Maryland', 'District of Columbia', 'Virginia', 'West Virginia', 'North Carolina', 'South Carolina', 'Georgia', 'Florida', 'Kentucky', 'Tennessee', 'Mississippi', 'Alabama', 'Oklahoma', 'Texas', 'Arkansas', 'Louisiana']\n",
    "West = ['Idaho', 'Montana', 'Wyoming', 'Nevada', 'Utah', 'Colorado', 'Arizona', 'New Mexico', 'Alaska', 'Washington', 'Oregon', 'California', 'Hawaii']"
   ]
  },
  {
   "cell_type": "markdown",
   "id": "4dec1cd0-85eb-4ec3-b46a-616191209fbe",
   "metadata": {},
   "source": [
    "#### 3b. Creating a new region column and assigning the States accordingly"
   ]
  },
  {
   "cell_type": "code",
   "execution_count": 12,
   "id": "a08d21a8-f743-4ca0-b013-268b9b7da36b",
   "metadata": {
    "tags": []
   },
   "outputs": [],
   "source": [
    "# Create new Region column and assign the states as defined above\n",
    "\n",
    "df_opc_nonames.loc[df_opc_nonames['state'].isin(Northeast), 'region'] = 'Northeast'\n",
    "df_opc_nonames.loc[df_opc_nonames['state'].isin(Midwest), 'region'] = 'Midwest'\n",
    "df_opc_nonames.loc[df_opc_nonames['state'].isin(South), 'region'] = 'South'\n",
    "df_opc_nonames.loc[df_opc_nonames['state'].isin(West), 'region'] = 'West'"
   ]
  },
  {
   "cell_type": "code",
   "execution_count": 14,
   "id": "05bc7755-80fc-44ab-a3a3-75d909c4c9aa",
   "metadata": {
    "tags": []
   },
   "outputs": [
    {
     "data": {
      "text/plain": [
       "South        10791885\n",
       "West          8292913\n",
       "Midwest       7597325\n",
       "Northeast     5722736\n",
       "Name: region, dtype: int64"
      ]
     },
     "execution_count": 14,
     "metadata": {},
     "output_type": "execute_result"
    }
   ],
   "source": [
    "# Check the outcome\n",
    "\n",
    "df_opc_nonames['region'].value_counts(dropna = False)"
   ]
  },
  {
   "cell_type": "code",
   "execution_count": 15,
   "id": "38cf6e44-f3df-4c26-8887-82acb2538a4c",
   "metadata": {
    "tags": []
   },
   "outputs": [
    {
     "data": {
      "text/plain": [
       "(32404859, 34)"
      ]
     },
     "execution_count": 15,
     "metadata": {},
     "output_type": "execute_result"
    }
   ],
   "source": [
    "# Check shape\n",
    "\n",
    "df_opc_nonames.shape"
   ]
  },
  {
   "cell_type": "code",
   "execution_count": 16,
   "id": "60b626e9-df9b-4700-a92a-72d59e4563af",
   "metadata": {
    "tags": []
   },
   "outputs": [
    {
     "data": {
      "text/plain": [
       "Index(['order_id', 'user_id', 'eval_set', 'number_of_orders',\n",
       "       'orders_day_of_week', 'order_hour_of_day', 'days_since_prior_order',\n",
       "       'product_id', 'add_to_cart_order', 'reordered', 'product_name',\n",
       "       'aisle_id', 'department_id', 'prices', '_merge', ' price_range_loc',\n",
       "       'price_range_loc', 'busiest_day', 'Busiest_days',\n",
       "       'busiest_period_of_day', 'max_order', 'loyalty_flag', 'average_price',\n",
       "       'spending_flag', 'median_prior_order', 'frequency_flag', 'gender',\n",
       "       'state', 'age', 'date_joined', 'number_of_dependants', 'family_status',\n",
       "       'income', 'region'],\n",
       "      dtype='object')"
      ]
     },
     "execution_count": 16,
     "metadata": {},
     "output_type": "execute_result"
    }
   ],
   "source": [
    "# Check all columns names\n",
    "\n",
    "df_opc_nonames.columns"
   ]
  },
  {
   "cell_type": "markdown",
   "id": "410db5e8-b634-4026-8e9b-46a1abc6c680",
   "metadata": {},
   "source": [
    "#### 3c. Determine the spending habits between the different U.S. regions"
   ]
  },
  {
   "cell_type": "code",
   "execution_count": 17,
   "id": "a6feec9b-a13d-4fd3-8331-220d8c0eb833",
   "metadata": {
    "tags": []
   },
   "outputs": [],
   "source": [
    "# Check for spending habits by crossing the `region` with the `spending flag`\n",
    "\n",
    "crosstab = pd.crosstab(df_opc_nonames['region'], df_opc_nonames['spending_flag'], dropna = False)"
   ]
  },
  {
   "cell_type": "code",
   "execution_count": 18,
   "id": "0839c7ed-9318-42e0-a8a4-ce409be04793",
   "metadata": {
    "tags": []
   },
   "outputs": [
    {
     "data": {
      "text/html": [
       "<div>\n",
       "<style scoped>\n",
       "    .dataframe tbody tr th:only-of-type {\n",
       "        vertical-align: middle;\n",
       "    }\n",
       "\n",
       "    .dataframe tbody tr th {\n",
       "        vertical-align: top;\n",
       "    }\n",
       "\n",
       "    .dataframe thead th {\n",
       "        text-align: right;\n",
       "    }\n",
       "</style>\n",
       "<table border=\"1\" class=\"dataframe\">\n",
       "  <thead>\n",
       "    <tr style=\"text-align: right;\">\n",
       "      <th>spending_flag</th>\n",
       "      <th>High spender</th>\n",
       "      <th>Low spender</th>\n",
       "    </tr>\n",
       "    <tr>\n",
       "      <th>region</th>\n",
       "      <th></th>\n",
       "      <th></th>\n",
       "    </tr>\n",
       "  </thead>\n",
       "  <tbody>\n",
       "    <tr>\n",
       "      <th>Midwest</th>\n",
       "      <td>155975</td>\n",
       "      <td>7441350</td>\n",
       "    </tr>\n",
       "    <tr>\n",
       "      <th>Northeast</th>\n",
       "      <td>108225</td>\n",
       "      <td>5614511</td>\n",
       "    </tr>\n",
       "    <tr>\n",
       "      <th>South</th>\n",
       "      <td>209691</td>\n",
       "      <td>10582194</td>\n",
       "    </tr>\n",
       "    <tr>\n",
       "      <th>West</th>\n",
       "      <td>160354</td>\n",
       "      <td>8132559</td>\n",
       "    </tr>\n",
       "  </tbody>\n",
       "</table>\n",
       "</div>"
      ],
      "text/plain": [
       "spending_flag  High spender  Low spender\n",
       "region                                  \n",
       "Midwest              155975      7441350\n",
       "Northeast            108225      5614511\n",
       "South                209691     10582194\n",
       "West                 160354      8132559"
      ]
     },
     "execution_count": 18,
     "metadata": {},
     "output_type": "execute_result"
    }
   ],
   "source": [
    "crosstab"
   ]
  },
  {
   "cell_type": "code",
   "execution_count": 24,
   "id": "c45c5e0d-85e9-494a-98ce-25655a067280",
   "metadata": {
    "tags": []
   },
   "outputs": [
    {
     "data": {
      "text/plain": [
       "Text(0.5, 0, 'Regions')"
      ]
     },
     "execution_count": 24,
     "metadata": {},
     "output_type": "execute_result"
    },
    {
     "data": {
      "image/png": "[encoded data removed]",
      "text/plain": [
       "<Figure size 640x480 with 1 Axes>"
      ]
     },
     "metadata": {},
     "output_type": "display_data"
    }
   ],
   "source": [
    "# Visualize the regional distribution and save in memory\n",
    "\n",
    "regional_distrib = df_opc_nonames['region'].value_counts().sort_index().plot.bar(color = ['lightblue', 'turquoise', 'teal', 'blue'])\n",
    "plt.title('Spending habits per Regions')\n",
    "plt.xlabel('Regions')"
   ]
  },
  {
   "cell_type": "code",
   "execution_count": 25,
   "id": "9e491b0a-c983-40fe-83d5-9581154ac083",
   "metadata": {
    "tags": []
   },
   "outputs": [],
   "source": [
    "# Export above bar chart as image file\n",
    "\n",
    "regional_distrib.figure.savefig(os.path.join(path, 'Analysis','Visualizations', 'regional_expenditure.png'))"
   ]
  },
  {
   "cell_type": "markdown",
   "id": "2997cf0e-7ada-4143-bb43-7be435c310e2",
   "metadata": {},
   "source": [
    "##### Conclusion from above data:\n",
    "High spenders make up a relatively small portion, around 2%, of the overall data, while low-spenders dominate with a frequency of 98%. Variations in spending behavior are evident across different U.S. regions. In the South, both high and low spenders are more prevalent, constituting approximately 33% of each group. The Midwest and West regions exhibit similar spending patterns, with approximately 25% of both high and low spenders. Conversely, the Northeast stands out with the lowest percentage, accounting for roughly 17% of both high-spenders and low-spenders."
   ]
  },
  {
   "cell_type": "markdown",
   "id": "6c331361-49c6-46ec-9bbd-7645c3413ac7",
   "metadata": {},
   "source": [
    "## 4. Create an exclusion flag for low-activity customers: customers with less than 5 orders"
   ]
  },
  {
   "cell_type": "markdown",
   "id": "59f67aaf-2eea-4044-b460-6180da2351bc",
   "metadata": {},
   "source": [
    "#### 4a. Create a new activity flag based on the ´max_order' value of the customers"
   ]
  },
  {
   "cell_type": "code",
   "execution_count": 26,
   "id": "e1cc4ea7-2375-4cb0-9692-51273edba215",
   "metadata": {
    "tags": []
   },
   "outputs": [],
   "source": [
    "# Create activity_flag for customers with less than 5 orders\n",
    "\n",
    "df_opc_nonames.loc[df_opc_nonames['max_order'] < 5, 'activity_flag'] = 'low activity customer'"
   ]
  },
  {
   "cell_type": "code",
   "execution_count": 27,
   "id": "d2d15a1c-e5b5-4820-ad62-56adc7eff95e",
   "metadata": {
    "tags": []
   },
   "outputs": [],
   "source": [
    "# Create activity_flag for customers with 5 or more orders\n",
    "\n",
    "df_opc_nonames.loc[df_opc_nonames['max_order'] >= 5, 'activity_flag'] = 'high activity customer'"
   ]
  },
  {
   "cell_type": "code",
   "execution_count": 28,
   "id": "5e030ac8-6d61-42f1-beb5-1df0660b1f68",
   "metadata": {
    "tags": []
   },
   "outputs": [
    {
     "data": {
      "text/plain": [
       "high activity customer    30964564\n",
       "low activity customer      1440295\n",
       "Name: activity_flag, dtype: int64"
      ]
     },
     "execution_count": 28,
     "metadata": {},
     "output_type": "execute_result"
    }
   ],
   "source": [
    "# Print frequency of the new `activity_flag`\n",
    "\n",
    "df_opc_nonames['activity_flag'].value_counts(dropna = False)"
   ]
  },
  {
   "cell_type": "code",
   "execution_count": 29,
   "id": "e5d06364-b2fe-4d59-85a1-c7e1595c817b",
   "metadata": {
    "tags": []
   },
   "outputs": [
    {
     "data": {
      "text/html": [
       "<div>\n",
       "<style scoped>\n",
       "    .dataframe tbody tr th:only-of-type {\n",
       "        vertical-align: middle;\n",
       "    }\n",
       "\n",
       "    .dataframe tbody tr th {\n",
       "        vertical-align: top;\n",
       "    }\n",
       "\n",
       "    .dataframe thead th {\n",
       "        text-align: right;\n",
       "    }\n",
       "</style>\n",
       "<table border=\"1\" class=\"dataframe\">\n",
       "  <thead>\n",
       "    <tr style=\"text-align: right;\">\n",
       "      <th></th>\n",
       "      <th>user_id</th>\n",
       "      <th>activity_flag</th>\n",
       "      <th>max_order</th>\n",
       "    </tr>\n",
       "  </thead>\n",
       "  <tbody>\n",
       "    <tr>\n",
       "      <th>0</th>\n",
       "      <td>1</td>\n",
       "      <td>high activity customer</td>\n",
       "      <td>10</td>\n",
       "    </tr>\n",
       "    <tr>\n",
       "      <th>1</th>\n",
       "      <td>1</td>\n",
       "      <td>high activity customer</td>\n",
       "      <td>10</td>\n",
       "    </tr>\n",
       "    <tr>\n",
       "      <th>2</th>\n",
       "      <td>1</td>\n",
       "      <td>high activity customer</td>\n",
       "      <td>10</td>\n",
       "    </tr>\n",
       "    <tr>\n",
       "      <th>3</th>\n",
       "      <td>1</td>\n",
       "      <td>high activity customer</td>\n",
       "      <td>10</td>\n",
       "    </tr>\n",
       "    <tr>\n",
       "      <th>4</th>\n",
       "      <td>1</td>\n",
       "      <td>high activity customer</td>\n",
       "      <td>10</td>\n",
       "    </tr>\n",
       "  </tbody>\n",
       "</table>\n",
       "</div>"
      ],
      "text/plain": [
       "   user_id           activity_flag  max_order\n",
       "0        1  high activity customer         10\n",
       "1        1  high activity customer         10\n",
       "2        1  high activity customer         10\n",
       "3        1  high activity customer         10\n",
       "4        1  high activity customer         10"
      ]
     },
     "execution_count": 29,
     "metadata": {},
     "output_type": "execute_result"
    }
   ],
   "source": [
    "# Check output\n",
    "\n",
    "df_opc_nonames[['user_id', 'activity_flag', 'max_order']].head()"
   ]
  },
  {
   "cell_type": "markdown",
   "id": "fc92157e-6738-4838-99b4-2ab0f1807ce9",
   "metadata": {},
   "source": [
    "#### 4b. Creating subsets of both low and high activity customers and export"
   ]
  },
  {
   "cell_type": "code",
   "execution_count": 30,
   "id": "08561168-0d05-458a-9d62-497a67c0f252",
   "metadata": {
    "tags": []
   },
   "outputs": [],
   "source": [
    "# Create a subset for low activity customers\n",
    "\n",
    "df_low_activity_customers = df_opc_nonames[df_opc_nonames['activity_flag']=='low activity customer']"
   ]
  },
  {
   "cell_type": "code",
   "execution_count": 31,
   "id": "92c82845-4130-4e86-bb8d-fd68319df00b",
   "metadata": {
    "tags": []
   },
   "outputs": [
    {
     "data": {
      "text/html": [
       "<div>\n",
       "<style scoped>\n",
       "    .dataframe tbody tr th:only-of-type {\n",
       "        vertical-align: middle;\n",
       "    }\n",
       "\n",
       "    .dataframe tbody tr th {\n",
       "        vertical-align: top;\n",
       "    }\n",
       "\n",
       "    .dataframe thead th {\n",
       "        text-align: right;\n",
       "    }\n",
       "</style>\n",
       "<table border=\"1\" class=\"dataframe\">\n",
       "  <thead>\n",
       "    <tr style=\"text-align: right;\">\n",
       "      <th></th>\n",
       "      <th>order_id</th>\n",
       "      <th>user_id</th>\n",
       "      <th>eval_set</th>\n",
       "      <th>number_of_orders</th>\n",
       "      <th>orders_day_of_week</th>\n",
       "      <th>order_hour_of_day</th>\n",
       "      <th>days_since_prior_order</th>\n",
       "      <th>product_id</th>\n",
       "      <th>add_to_cart_order</th>\n",
       "      <th>reordered</th>\n",
       "      <th>product_name</th>\n",
       "      <th>aisle_id</th>\n",
       "      <th>department_id</th>\n",
       "      <th>prices</th>\n",
       "      <th>_merge</th>\n",
       "      <th>price_range_loc</th>\n",
       "      <th>price_range_loc</th>\n",
       "      <th>busiest_day</th>\n",
       "      <th>Busiest_days</th>\n",
       "      <th>busiest_period_of_day</th>\n",
       "      <th>max_order</th>\n",
       "      <th>loyalty_flag</th>\n",
       "      <th>average_price</th>\n",
       "      <th>spending_flag</th>\n",
       "      <th>median_prior_order</th>\n",
       "      <th>frequency_flag</th>\n",
       "      <th>gender</th>\n",
       "      <th>state</th>\n",
       "      <th>age</th>\n",
       "      <th>date_joined</th>\n",
       "      <th>number_of_dependants</th>\n",
       "      <th>family_status</th>\n",
       "      <th>income</th>\n",
       "      <th>region</th>\n",
       "      <th>activity_flag</th>\n",
       "    </tr>\n",
       "  </thead>\n",
       "  <tbody>\n",
       "    <tr>\n",
       "      <th>1510</th>\n",
       "      <td>520620</td>\n",
       "      <td>120</td>\n",
       "      <td>prior</td>\n",
       "      <td>1</td>\n",
       "      <td>3</td>\n",
       "      <td>11</td>\n",
       "      <td>NaN</td>\n",
       "      <td>196</td>\n",
       "      <td>2</td>\n",
       "      <td>0</td>\n",
       "      <td>Soda</td>\n",
       "      <td>77</td>\n",
       "      <td>7</td>\n",
       "      <td>9.0</td>\n",
       "      <td>both</td>\n",
       "      <td>NaN</td>\n",
       "      <td>NaN</td>\n",
       "      <td>Regularly busy</td>\n",
       "      <td>Slowest days</td>\n",
       "      <td>Most Orders</td>\n",
       "      <td>3</td>\n",
       "      <td>New Customer</td>\n",
       "      <td>9.385714</td>\n",
       "      <td>Low spender</td>\n",
       "      <td>18.0</td>\n",
       "      <td>Regular customer</td>\n",
       "      <td>Female</td>\n",
       "      <td>Kentucky</td>\n",
       "      <td>54</td>\n",
       "      <td>3/2/2017</td>\n",
       "      <td>2</td>\n",
       "      <td>married</td>\n",
       "      <td>99219</td>\n",
       "      <td>South</td>\n",
       "      <td>low activity customer</td>\n",
       "    </tr>\n",
       "    <tr>\n",
       "      <th>1511</th>\n",
       "      <td>3273029</td>\n",
       "      <td>120</td>\n",
       "      <td>prior</td>\n",
       "      <td>3</td>\n",
       "      <td>2</td>\n",
       "      <td>8</td>\n",
       "      <td>19.0</td>\n",
       "      <td>196</td>\n",
       "      <td>2</td>\n",
       "      <td>1</td>\n",
       "      <td>Soda</td>\n",
       "      <td>77</td>\n",
       "      <td>7</td>\n",
       "      <td>9.0</td>\n",
       "      <td>both</td>\n",
       "      <td>NaN</td>\n",
       "      <td>NaN</td>\n",
       "      <td>Regularly busy</td>\n",
       "      <td>Normal days</td>\n",
       "      <td>Average Orders</td>\n",
       "      <td>3</td>\n",
       "      <td>New Customer</td>\n",
       "      <td>9.385714</td>\n",
       "      <td>Low spender</td>\n",
       "      <td>18.0</td>\n",
       "      <td>Regular customer</td>\n",
       "      <td>Female</td>\n",
       "      <td>Kentucky</td>\n",
       "      <td>54</td>\n",
       "      <td>3/2/2017</td>\n",
       "      <td>2</td>\n",
       "      <td>married</td>\n",
       "      <td>99219</td>\n",
       "      <td>South</td>\n",
       "      <td>low activity customer</td>\n",
       "    </tr>\n",
       "    <tr>\n",
       "      <th>1512</th>\n",
       "      <td>520620</td>\n",
       "      <td>120</td>\n",
       "      <td>prior</td>\n",
       "      <td>1</td>\n",
       "      <td>3</td>\n",
       "      <td>11</td>\n",
       "      <td>NaN</td>\n",
       "      <td>46149</td>\n",
       "      <td>1</td>\n",
       "      <td>0</td>\n",
       "      <td>Zero Calorie Cola</td>\n",
       "      <td>77</td>\n",
       "      <td>7</td>\n",
       "      <td>13.4</td>\n",
       "      <td>both</td>\n",
       "      <td>NaN</td>\n",
       "      <td>NaN</td>\n",
       "      <td>Regularly busy</td>\n",
       "      <td>Slowest days</td>\n",
       "      <td>Most Orders</td>\n",
       "      <td>3</td>\n",
       "      <td>New Customer</td>\n",
       "      <td>9.385714</td>\n",
       "      <td>Low spender</td>\n",
       "      <td>18.0</td>\n",
       "      <td>Regular customer</td>\n",
       "      <td>Female</td>\n",
       "      <td>Kentucky</td>\n",
       "      <td>54</td>\n",
       "      <td>3/2/2017</td>\n",
       "      <td>2</td>\n",
       "      <td>married</td>\n",
       "      <td>99219</td>\n",
       "      <td>South</td>\n",
       "      <td>low activity customer</td>\n",
       "    </tr>\n",
       "    <tr>\n",
       "      <th>1513</th>\n",
       "      <td>3273029</td>\n",
       "      <td>120</td>\n",
       "      <td>prior</td>\n",
       "      <td>3</td>\n",
       "      <td>2</td>\n",
       "      <td>8</td>\n",
       "      <td>19.0</td>\n",
       "      <td>46149</td>\n",
       "      <td>1</td>\n",
       "      <td>1</td>\n",
       "      <td>Zero Calorie Cola</td>\n",
       "      <td>77</td>\n",
       "      <td>7</td>\n",
       "      <td>13.4</td>\n",
       "      <td>both</td>\n",
       "      <td>NaN</td>\n",
       "      <td>NaN</td>\n",
       "      <td>Regularly busy</td>\n",
       "      <td>Normal days</td>\n",
       "      <td>Average Orders</td>\n",
       "      <td>3</td>\n",
       "      <td>New Customer</td>\n",
       "      <td>9.385714</td>\n",
       "      <td>Low spender</td>\n",
       "      <td>18.0</td>\n",
       "      <td>Regular customer</td>\n",
       "      <td>Female</td>\n",
       "      <td>Kentucky</td>\n",
       "      <td>54</td>\n",
       "      <td>3/2/2017</td>\n",
       "      <td>2</td>\n",
       "      <td>married</td>\n",
       "      <td>99219</td>\n",
       "      <td>South</td>\n",
       "      <td>low activity customer</td>\n",
       "    </tr>\n",
       "    <tr>\n",
       "      <th>1514</th>\n",
       "      <td>520620</td>\n",
       "      <td>120</td>\n",
       "      <td>prior</td>\n",
       "      <td>1</td>\n",
       "      <td>3</td>\n",
       "      <td>11</td>\n",
       "      <td>NaN</td>\n",
       "      <td>26348</td>\n",
       "      <td>3</td>\n",
       "      <td>0</td>\n",
       "      <td>Mixed Fruit Fruit Snacks</td>\n",
       "      <td>50</td>\n",
       "      <td>19</td>\n",
       "      <td>3.1</td>\n",
       "      <td>both</td>\n",
       "      <td>NaN</td>\n",
       "      <td>NaN</td>\n",
       "      <td>Regularly busy</td>\n",
       "      <td>Slowest days</td>\n",
       "      <td>Most Orders</td>\n",
       "      <td>3</td>\n",
       "      <td>New Customer</td>\n",
       "      <td>9.385714</td>\n",
       "      <td>Low spender</td>\n",
       "      <td>18.0</td>\n",
       "      <td>Regular customer</td>\n",
       "      <td>Female</td>\n",
       "      <td>Kentucky</td>\n",
       "      <td>54</td>\n",
       "      <td>3/2/2017</td>\n",
       "      <td>2</td>\n",
       "      <td>married</td>\n",
       "      <td>99219</td>\n",
       "      <td>South</td>\n",
       "      <td>low activity customer</td>\n",
       "    </tr>\n",
       "  </tbody>\n",
       "</table>\n",
       "</div>"
      ],
      "text/plain": [
       "      order_id  user_id eval_set  number_of_orders  orders_day_of_week  \\\n",
       "1510    520620      120    prior                 1                   3   \n",
       "1511   3273029      120    prior                 3                   2   \n",
       "1512    520620      120    prior                 1                   3   \n",
       "1513   3273029      120    prior                 3                   2   \n",
       "1514    520620      120    prior                 1                   3   \n",
       "\n",
       "      order_hour_of_day  days_since_prior_order  product_id  \\\n",
       "1510                 11                     NaN         196   \n",
       "1511                  8                    19.0         196   \n",
       "1512                 11                     NaN       46149   \n",
       "1513                  8                    19.0       46149   \n",
       "1514                 11                     NaN       26348   \n",
       "\n",
       "      add_to_cart_order  reordered              product_name  aisle_id  \\\n",
       "1510                  2          0                      Soda        77   \n",
       "1511                  2          1                      Soda        77   \n",
       "1512                  1          0         Zero Calorie Cola        77   \n",
       "1513                  1          1         Zero Calorie Cola        77   \n",
       "1514                  3          0  Mixed Fruit Fruit Snacks        50   \n",
       "\n",
       "      department_id  prices _merge  price_range_loc  price_range_loc  \\\n",
       "1510              7     9.0   both              NaN              NaN   \n",
       "1511              7     9.0   both              NaN              NaN   \n",
       "1512              7    13.4   both              NaN              NaN   \n",
       "1513              7    13.4   both              NaN              NaN   \n",
       "1514             19     3.1   both              NaN              NaN   \n",
       "\n",
       "         busiest_day  Busiest_days busiest_period_of_day  max_order  \\\n",
       "1510  Regularly busy  Slowest days           Most Orders          3   \n",
       "1511  Regularly busy   Normal days        Average Orders          3   \n",
       "1512  Regularly busy  Slowest days           Most Orders          3   \n",
       "1513  Regularly busy   Normal days        Average Orders          3   \n",
       "1514  Regularly busy  Slowest days           Most Orders          3   \n",
       "\n",
       "      loyalty_flag  average_price spending_flag  median_prior_order  \\\n",
       "1510  New Customer       9.385714   Low spender                18.0   \n",
       "1511  New Customer       9.385714   Low spender                18.0   \n",
       "1512  New Customer       9.385714   Low spender                18.0   \n",
       "1513  New Customer       9.385714   Low spender                18.0   \n",
       "1514  New Customer       9.385714   Low spender                18.0   \n",
       "\n",
       "        frequency_flag  gender     state  age date_joined  \\\n",
       "1510  Regular customer  Female  Kentucky   54    3/2/2017   \n",
       "1511  Regular customer  Female  Kentucky   54    3/2/2017   \n",
       "1512  Regular customer  Female  Kentucky   54    3/2/2017   \n",
       "1513  Regular customer  Female  Kentucky   54    3/2/2017   \n",
       "1514  Regular customer  Female  Kentucky   54    3/2/2017   \n",
       "\n",
       "      number_of_dependants family_status  income region          activity_flag  \n",
       "1510                     2       married   99219  South  low activity customer  \n",
       "1511                     2       married   99219  South  low activity customer  \n",
       "1512                     2       married   99219  South  low activity customer  \n",
       "1513                     2       married   99219  South  low activity customer  \n",
       "1514                     2       married   99219  South  low activity customer  "
      ]
     },
     "execution_count": 31,
     "metadata": {},
     "output_type": "execute_result"
    }
   ],
   "source": [
    "# Check output\n",
    "\n",
    "df_low_activity_customers.head()"
   ]
  },
  {
   "cell_type": "code",
   "execution_count": 32,
   "id": "6702065e-fd6e-4de1-b1cb-8ae013ca1e02",
   "metadata": {
    "tags": []
   },
   "outputs": [
    {
     "data": {
      "text/plain": [
       "(1440295, 35)"
      ]
     },
     "execution_count": 32,
     "metadata": {},
     "output_type": "execute_result"
    }
   ],
   "source": [
    "# Check shape\n",
    "\n",
    "df_low_activity_customers.shape"
   ]
  },
  {
   "cell_type": "code",
   "execution_count": 33,
   "id": "ab044075-8b46-4e6a-a92f-261455cbaa1a",
   "metadata": {
    "tags": []
   },
   "outputs": [],
   "source": [
    "# Create a subset for high activity customers\n",
    "\n",
    "df_high_activity_customers = df_opc_nonames[df_opc_nonames['activity_flag']=='high activity customer']"
   ]
  },
  {
   "cell_type": "code",
   "execution_count": 34,
   "id": "c8886722-4fe8-4868-a056-7c0e7ec36f35",
   "metadata": {
    "tags": []
   },
   "outputs": [
    {
     "data": {
      "text/plain": [
       "(30964564, 35)"
      ]
     },
     "execution_count": 34,
     "metadata": {},
     "output_type": "execute_result"
    }
   ],
   "source": [
    "# Check shape\n",
    "\n",
    "df_high_activity_customers.shape"
   ]
  },
  {
   "cell_type": "code",
   "execution_count": 35,
   "id": "217e29c7-1b2e-4e21-84f3-3a6a004e8ac4",
   "metadata": {
    "tags": []
   },
   "outputs": [
    {
     "data": {
      "text/plain": [
       "32404859"
      ]
     },
     "execution_count": 35,
     "metadata": {},
     "output_type": "execute_result"
    }
   ],
   "source": [
    "# Check  that both new activity flag dataframes have same shape as main dataframe\n",
    "\n",
    "len(df_low_activity_customers) + len(df_high_activity_customers)"
   ]
  },
  {
   "cell_type": "code",
   "execution_count": 36,
   "id": "7178c61d-f748-4b41-a565-0b25cad6a2cb",
   "metadata": {
    "tags": []
   },
   "outputs": [
    {
     "data": {
      "text/plain": [
       "(32404859, 35)"
      ]
     },
     "execution_count": 36,
     "metadata": {},
     "output_type": "execute_result"
    }
   ],
   "source": [
    "# Check shape of main dataframe\n",
    "\n",
    "df_opc_nonames.shape"
   ]
  },
  {
   "cell_type": "markdown",
   "id": "285da560-430d-4f01-b589-f87e0f9554f2",
   "metadata": {},
   "source": [
    "Both low and high activity dataframes yield the sum of the main dataframe"
   ]
  },
  {
   "cell_type": "markdown",
   "id": "cb987bb8-c356-40e7-8619-8dda521b3dc4",
   "metadata": {},
   "source": [
    "#### 4c. Exporting and high activity dataframes"
   ]
  },
  {
   "cell_type": "code",
   "execution_count": 37,
   "id": "74083d75-da59-4f9e-97bc-00e17f47956c",
   "metadata": {
    "tags": []
   },
   "outputs": [],
   "source": [
    "# Export and save low activity dataframe\n",
    "\n",
    "df_low_activity_customers.to_pickle(os.path.join(path, 'Data', 'Prepared Data', 'low_activity_customers.pkl'))"
   ]
  },
  {
   "cell_type": "code",
   "execution_count": 38,
   "id": "a11b0c39-b335-4862-8622-84a4c50d8fb9",
   "metadata": {
    "tags": []
   },
   "outputs": [],
   "source": [
    "# Export and save high activity dataframe\n",
    "\n",
    "df_high_activity_customers.to_pickle(os.path.join(path, 'Data', 'Prepared Data', 'high_activity_customers.pkl'))"
   ]
  },
  {
   "cell_type": "code",
   "execution_count": null,
   "id": "b1a8ab43-3239-4cdf-b565-0d34f6b76503",
   "metadata": {},
   "outputs": [],
   "source": []
  },
  {
   "cell_type": "code",
   "execution_count": null,
   "id": "f8b3554e-0de2-4cee-b128-d9a3d7725314",
   "metadata": {},
   "outputs": [],
   "source": []
  },
  {
   "cell_type": "code",
   "execution_count": null,
   "id": "336b179c-c954-46d5-ae2c-f551ac02e948",
   "metadata": {},
   "outputs": [],
   "source": []
  },
  {
   "cell_type": "code",
   "execution_count": null,
   "id": "a7c95ce3-c5ea-457c-8b4c-16e5393ac745",
   "metadata": {},
   "outputs": [],
   "source": []
  },
  {
   "cell_type": "code",
   "execution_count": null,
   "id": "77d39767-ecc9-41b4-a51e-ee86d4a3470f",
   "metadata": {},
   "outputs": [],
   "source": []
  },
  {
   "cell_type": "code",
   "execution_count": null,
   "id": "110a5167-8f6a-4f85-8c1d-1af3d45b3502",
   "metadata": {},
   "outputs": [],
   "source": []
  },
  {
   "cell_type": "code",
   "execution_count": null,
   "id": "ef0b0da6-1bf2-4cdf-8b41-9b63d23bc9b4",
   "metadata": {},
   "outputs": [],
   "source": []
  },
  {
   "cell_type": "code",
   "execution_count": null,
   "id": "a8e7d201-6916-404c-bb11-9fdb210d4193",
   "metadata": {},
   "outputs": [],
   "source": []
  },
  {
   "cell_type": "code",
   "execution_count": null,
   "id": "59d6480d-de70-445a-8f1e-a5f755ecf214",
   "metadata": {},
   "outputs": [],
   "source": []
  },
  {
   "cell_type": "code",
   "execution_count": null,
   "id": "059a66ed-091d-478f-a2a9-65d58313b62c",
   "metadata": {},
   "outputs": [],
   "source": []
  },
  {
   "cell_type": "code",
   "execution_count": null,
   "id": "6d8effdd-0e94-4f85-a72a-c272cc64c966",
   "metadata": {},
   "outputs": [],
   "source": []
  },
  {
   "cell_type": "code",
   "execution_count": null,
   "id": "ba801c50-1e50-48f5-8bbd-4cf4232f5c4c",
   "metadata": {},
   "outputs": [],
   "source": []
  },
  {
   "cell_type": "code",
   "execution_count": null,
   "id": "15b5421a-680b-48f9-b3f1-3626246d3199",
   "metadata": {},
   "outputs": [],
   "source": []
  },
  {
   "cell_type": "code",
   "execution_count": null,
   "id": "09c82ef6-fae5-474f-a3ac-9fa5f8265397",
   "metadata": {},
   "outputs": [],
   "source": []
  },
  {
   "cell_type": "code",
   "execution_count": null,
   "id": "4b06ac37-9dee-4a1a-9cc9-7d3f38418fc0",
   "metadata": {},
   "outputs": [],
   "source": []
  },
  {
   "cell_type": "code",
   "execution_count": null,
   "id": "194bfa04-c86c-4928-a478-fc9000db9b86",
   "metadata": {},
   "outputs": [],
   "source": []
  }
 ],
 "metadata": {
  "kernelspec": {
   "display_name": "Python 3 (ipykernel)",
   "language": "python",
   "name": "python3"
  },
  "language_info": {
   "codemirror_mode": {
    "name": "ipython",
    "version": 3
   },
   "file_extension": ".py",
   "mimetype": "text/x-python",
   "name": "python",
   "nbconvert_exporter": "python",
   "pygments_lexer": "ipython3",
   "version": "3.11.4"
  }
 },
 "nbformat": 4,
 "nbformat_minor": 5
}
