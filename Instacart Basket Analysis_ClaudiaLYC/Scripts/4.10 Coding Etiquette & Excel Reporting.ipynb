{
 "cells": [
  {
   "cell_type": "markdown",
   "id": "c83f88db-fea2-4d3a-8c50-2e685748c874",
   "metadata": {},
   "source": [
    "# Exercise 4.10 Crosstab in Python"
   ]
  },
  {
   "cell_type": "code",
   "execution_count": 2,
   "id": "50dcefc5-be3e-40e4-9dea-f6b8e58b42c7",
   "metadata": {
    "tags": []
   },
   "outputs": [],
   "source": [
    "# Importing libraries\n",
    "import pandas as pd\n",
    "import numpy as np\n",
    "import os"
   ]
  },
  {
   "cell_type": "code",
   "execution_count": 3,
   "id": "4daa87f9-ede5-4ad1-9b72-2b06614ac1f4",
   "metadata": {
    "tags": []
   },
   "outputs": [],
   "source": [
    "# Assign path\n",
    "path = r'C:\\Users\\clany\\OneDrive\\Documents\\CareerFoundry\\Chap_4_Pythons Fundamentals for Data Analysts\\Instacart Basket Analysis'"
   ]
  },
  {
   "cell_type": "code",
   "execution_count": 6,
   "id": "f4905ec9-0e79-4cf3-8c33-665124a11032",
   "metadata": {
    "tags": []
   },
   "outputs": [],
   "source": [
    "# Importing ords_prods_customer_merge pkl from last exercise 4.9\n",
    "df_ords_prods_customer = pd.read_pickle(os.path.join( path, 'Data', 'Prepared Data', 'ords_prods_customer_merge.pkl'))"
   ]
  },
  {
   "cell_type": "code",
   "execution_count": 8,
   "id": "f77f582e-4692-484c-878f-8a2ef7aa008f",
   "metadata": {
    "tags": []
   },
   "outputs": [],
   "source": [
    "# Create a crosstab between days_since_prior_order and order_number to find missing values\n",
    "\n",
    "crosstab = pd.crosstab(df_ords_prods_customer['days_since_prior_order'], df_ords_prods_customer['number_of_orders'], dropna = False)"
   ]
  },
  {
   "cell_type": "code",
   "execution_count": 9,
   "id": "152bc5c7-216e-478c-9abc-83ac0f6dc916",
   "metadata": {
    "tags": []
   },
   "outputs": [],
   "source": [
    "crosstab.to_clipboard()"
   ]
  },
  {
   "cell_type": "code",
   "execution_count": null,
   "id": "b5958756-feb2-495a-88ab-317679c8c0ee",
   "metadata": {},
   "outputs": [],
   "source": []
  },
  {
   "cell_type": "code",
   "execution_count": null,
   "id": "1b88a3d5-9780-4188-a5b6-0d31da2acb86",
   "metadata": {},
   "outputs": [],
   "source": []
  },
  {
   "cell_type": "code",
   "execution_count": null,
   "id": "18ac4e5d-ef11-402e-8b7e-db0388c32559",
   "metadata": {},
   "outputs": [],
   "source": []
  },
  {
   "cell_type": "code",
   "execution_count": null,
   "id": "f74e78ec-1f64-4de9-b3bb-c25fc09accf7",
   "metadata": {},
   "outputs": [],
   "source": []
  }
 ],
 "metadata": {
  "kernelspec": {
   "display_name": "Python 3 (ipykernel)",
   "language": "python",
   "name": "python3"
  },
  "language_info": {
   "codemirror_mode": {
    "name": "ipython",
    "version": 3
   },
   "file_extension": ".py",
   "mimetype": "text/x-python",
   "name": "python",
   "nbconvert_exporter": "python",
   "pygments_lexer": "ipython3",
   "version": "3.11.4"
  }
 },
 "nbformat": 4,
 "nbformat_minor": 5
}
